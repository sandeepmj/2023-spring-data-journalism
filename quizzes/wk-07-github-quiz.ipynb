{
 "cells": [
  {
   "cell_type": "markdown",
   "id": "03d1b81e",
   "metadata": {},
   "source": [
    "# Project Organziation Quiz\n",
    "\n",
    "\n",
    "You are reporting on people migrating from one state to another based on tax filing data from the IRS. \n",
    "\n",
    "Here's data:\n",
    "\n",
    "<a href=\"https://drive.google.com/file/d/1bQzqwY3GCB-h7UI7DXYa1QnViazBMrPo/view?usp=share_link\">file 1<a/>, <a href=\"https://drive.google.com/file/d/1THi04WKiITOZmBa3lkiskIazU6Snel-2/view?usp=share_link\">file 2</a>, <a href=\"https://drive.google.com/file/d/1cbanBNrQ7WUE2-juo04Y9Kt3V6zYBHLq/view?usp=share_link\">file 3</a>, <a href=\"https://drive.google.com/file/d/1SToyn90MR0dl7Cg8-nlO-l4KXPaO33hG/view?usp=share_link\">file 4</a>.\n",
    "\n",
    "Share a repo with me for the project.\n",
    "\n",
    "\n",
    "\n",
    "The only additional general info: \n",
    "    \n",
    "- Your repo should be properly organized (as previously described/discussed).\n",
    "    \n",
    "- Run your notebook so the output shows that you have imported the data.\n",
    "\n",
    "Then share your repo with me via the submission form under the Misc. assignment choice.\n",
    "    \n",
    "Good luck!"
   ]
  },
  {
   "cell_type": "code",
   "execution_count": null,
   "id": "46871e59",
   "metadata": {},
   "outputs": [],
   "source": []
  }
 ],
 "metadata": {
  "kernelspec": {
   "display_name": "Python 3 (ipykernel)",
   "language": "python",
   "name": "python3"
  },
  "language_info": {
   "codemirror_mode": {
    "name": "ipython",
    "version": 3
   },
   "file_extension": ".py",
   "mimetype": "text/x-python",
   "name": "python",
   "nbconvert_exporter": "python",
   "pygments_lexer": "ipython3",
   "version": "3.9.7"
  }
 },
 "nbformat": 4,
 "nbformat_minor": 5
}
