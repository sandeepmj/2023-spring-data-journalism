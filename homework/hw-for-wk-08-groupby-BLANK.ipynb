{
 "cells": [
  {
   "cell_type": "markdown",
   "id": "58185b3c",
   "metadata": {
    "id": "58185b3c"
   },
   "source": [
    "### Paycheck Protection Program\n",
    "\n",
    "Let's analyze **an excerpt** from  <a href=\"https://www.sba.gov/funding-programs/loans/covid-19-relief-options/paycheck-protection-program\">SBA's PPP loan data</a>.\n",
    "\n",
    "The file we're working on is an excerpt (ingested via a link below) so we can't draw any hypothesis from our findings in this homework."
   ]
  },
  {
   "cell_type": "code",
   "execution_count": null,
   "id": "2ab0d68b",
   "metadata": {
    "id": "2ab0d68b"
   },
   "outputs": [],
   "source": [
    "## import library\n",
    "import pandas as pd"
   ]
  },
  {
   "cell_type": "code",
   "execution_count": null,
   "id": "c4f25fe3",
   "metadata": {
    "id": "c4f25fe3"
   },
   "outputs": [],
   "source": [
    "## Ingest remote data\n",
    "df = pd.read_csv(\"https://raw.githubusercontent.com/sandeepmj/datasets/main/ppp_excerpt.csv\")\n",
    "df"
   ]
  },
  {
   "cell_type": "code",
   "execution_count": null,
   "id": "4f959248",
   "metadata": {
    "id": "4f959248"
   },
   "outputs": [],
   "source": [
    "## get info about data types\n"
   ]
  },
  {
   "cell_type": "markdown",
   "id": "733aaa10",
   "metadata": {},
   "source": [
    "### ```.agg()```\n",
    "\n",
    "- Use the ```.agg()``` that allows you call specific summary statistics at one time."
   ]
  },
  {
   "cell_type": "code",
   "execution_count": null,
   "id": "d8c73b56",
   "metadata": {},
   "outputs": [],
   "source": [
    "## get the count, mean and median for CurrentApprovalAmount\n",
    "\n"
   ]
  },
  {
   "cell_type": "code",
   "execution_count": null,
   "id": "RpMjeG-dE4Dt",
   "metadata": {
    "id": "RpMjeG-dE4Dt"
   },
   "outputs": [],
   "source": [
    "## What summary statistics for the CurrentApprovalAmount by Race?\n",
    "## if you get scientific notation, round it by running the display option that changes the default display\n",
    "## run the display code here\n"
   ]
  },
  {
   "cell_type": "markdown",
   "id": "0d65e155",
   "metadata": {},
   "source": [
    "## ```groupby```"
   ]
  },
  {
   "cell_type": "code",
   "execution_count": null,
   "id": "701432e0",
   "metadata": {
    "id": "701432e0"
   },
   "outputs": [],
   "source": [
    "## What is the sum, mean and count for the current \n",
    "## approval amount for owners by race \n"
   ]
  },
  {
   "cell_type": "markdown",
   "id": "a98b8bfc",
   "metadata": {},
   "source": [
    "## What question(s) might you ask based on this result?\n",
    "\n",
    "List answer(s):\n",
    "\n",
    "\n",
    "\n"
   ]
  },
  {
   "cell_type": "markdown",
   "id": "9e5a62f8",
   "metadata": {},
   "source": [
    "================================"
   ]
  },
  {
   "cell_type": "code",
   "execution_count": 2,
   "id": "df307073",
   "metadata": {},
   "outputs": [],
   "source": [
    "## What is the sum and mean for the ForgivenessAmount amount for owners by gender\n"
   ]
  },
  {
   "cell_type": "code",
   "execution_count": 3,
   "id": "78547bf3",
   "metadata": {},
   "outputs": [],
   "source": [
    "## What is the sum, mean and count for the current \n",
    "## approval amount for owners by race and gender"
   ]
  },
  {
   "cell_type": "code",
   "execution_count": 4,
   "id": "91dc533f",
   "metadata": {},
   "outputs": [],
   "source": [
    "## What is the sum, mean and count for the current \n",
    "## approval amount for owners by gender and race"
   ]
  },
  {
   "cell_type": "markdown",
   "id": "8c2c4786",
   "metadata": {},
   "source": [
    "## What question(s) might you ask about the unanswered categories?:\n",
    "List answer(s) here:"
   ]
  },
  {
   "cell_type": "code",
   "execution_count": null,
   "id": "34e17dce",
   "metadata": {},
   "outputs": [],
   "source": []
  }
 ],
 "metadata": {
  "colab": {
   "provenance": [
    {
     "file_id": "1E6lBk0CybDpYiiIpbN9F2vZv4TLTRdMM",
     "timestamp": 1676652349674
    },
    {
     "file_id": "1xGQnNd1p_PPGTl8XhHSTNwgrGJzg3GJL",
     "timestamp": 1676647902051
    },
    {
     "file_id": "13mkVHyvtYcLg0IQu4I7fAqJ0KjUuVhVY",
     "timestamp": 1676556385459
    },
    {
     "file_id": "1-tVOs87v3x9Dtnvny9lYMSSUjYcnPE5r",
     "timestamp": 1676553506628
    }
   ]
  },
  "kernelspec": {
   "display_name": "Python 3 (ipykernel)",
   "language": "python",
   "name": "python3"
  },
  "language_info": {
   "codemirror_mode": {
    "name": "ipython",
    "version": 3
   },
   "file_extension": ".py",
   "mimetype": "text/x-python",
   "name": "python",
   "nbconvert_exporter": "python",
   "pygments_lexer": "ipython3",
   "version": "3.9.7"
  }
 },
 "nbformat": 4,
 "nbformat_minor": 5
}
