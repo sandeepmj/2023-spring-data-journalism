{
 "cells": [
  {
   "cell_type": "markdown",
   "id": "ffd4e82a",
   "metadata": {},
   "source": [
    "# Visual Exploration\n",
    "\n",
    "#### You have a <a href = \"https://docs.google.com/spreadsheets/d/1CYdbCfj0aF-bKNJ3lIPe6_rKkWT-IlCMXxNQtjkiD34/edit?usp=sharing\">spreadsheet</a> that has the price of monthly cable bills, median income, and social security percentage increases. The data is from 1995 to 2022.\n",
    "\n",
    "#### Create a line chart that hopefully reveals a trend between cable prices, median income and social security increases. Make the cable bill red; median income blue, and social security gray.\n",
    "\n",
    "#### What would be your \"thesis\" based on your findings?\n",
    "\n",
    "**Note about social security increases:**\n",
    "\n",
    "Each year the U.S. government increases the amount of social security retired people receive. That increase is based on the annual inflation rate  and the political climate (or party in control). I have indexed the numbers so 1995 is 100, and each year after that the number reflects a percentage increase since 1995. So between 1995 at 100 and 1996 at 102.6 reflects a 2.6 percent increase. And between 1995 and 1997 reflects a 5.6 percent increase.\n",
    "\n",
    "\n"
   ]
  },
  {
   "cell_type": "code",
   "execution_count": null,
   "id": "363ade99",
   "metadata": {},
   "outputs": [],
   "source": []
  }
 ],
 "metadata": {
  "kernelspec": {
   "display_name": "Python 3 (ipykernel)",
   "language": "python",
   "name": "python3"
  },
  "language_info": {
   "codemirror_mode": {
    "name": "ipython",
    "version": 3
   },
   "file_extension": ".py",
   "mimetype": "text/x-python",
   "name": "python",
   "nbconvert_exporter": "python",
   "pygments_lexer": "ipython3",
   "version": "3.9.7"
  }
 },
 "nbformat": 4,
 "nbformat_minor": 5
}
