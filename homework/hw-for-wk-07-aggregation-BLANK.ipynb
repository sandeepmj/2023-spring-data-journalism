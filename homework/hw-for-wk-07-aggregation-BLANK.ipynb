{
 "cells": [
  {
   "cell_type": "markdown",
   "id": "58185b3c",
   "metadata": {
    "id": "58185b3c"
   },
   "source": [
    "### Paycheck Protection Program\n",
    "\n",
    "Let's analyze **an excerpt** from  <a href=\"https://www.sba.gov/funding-programs/loans/covid-19-relief-options/paycheck-protection-program\">SBA's PPP loan data</a>.\n",
    "\n",
    "The file we're working on is an excerpt so we can't draw any hypothesis from our findings in this homework."
   ]
  },
  {
   "cell_type": "code",
   "execution_count": null,
   "id": "2ab0d68b",
   "metadata": {
    "id": "2ab0d68b"
   },
   "outputs": [],
   "source": [
    "## import library\n",
    "import pandas as pd"
   ]
  },
  {
   "cell_type": "code",
   "execution_count": null,
   "id": "c4f25fe3",
   "metadata": {
    "colab": {
     "base_uri": "https://localhost:8080/",
     "height": 748
    },
    "id": "c4f25fe3",
    "outputId": "996f6ee7-5ed4-4c89-eb7c-8dc278b692ae"
   },
   "outputs": [],
   "source": [
    "## Ingest remote data\n",
    "df = pd.read_csv(\"https://raw.githubusercontent.com/sandeepmj/datasets/main/ppp_excerpt.csv\")\n",
    "df"
   ]
  },
  {
   "cell_type": "code",
   "execution_count": null,
   "id": "4f959248",
   "metadata": {
    "colab": {
     "base_uri": "https://localhost:8080/"
    },
    "id": "4f959248",
    "outputId": "d077e5f8-ad70-4383-9aa0-461a26795353"
   },
   "outputs": [],
   "source": [
    "## get info about data types\n"
   ]
  },
  {
   "cell_type": "code",
   "execution_count": null,
   "id": "c16be050",
   "metadata": {
    "colab": {
     "base_uri": "https://localhost:8080/",
     "height": 364
    },
    "id": "c16be050",
    "outputId": "5183486b-1663-4477-a006-5c86a53fbc88"
   },
   "outputs": [],
   "source": [
    "## Return all summary statistics in one go\n"
   ]
  },
  {
   "cell_type": "code",
   "execution_count": null,
   "id": "dadbf4c1",
   "metadata": {
    "colab": {
     "base_uri": "https://localhost:8080/",
     "height": 364
    },
    "id": "dadbf4c1",
    "outputId": "39037b1a-95dd-4658-8993-6f8ff43231af"
   },
   "outputs": [],
   "source": [
    "## create a new dataframe that holds all the numbers rounded to 0 decimal places\n",
    "## remember a floating point rounded number still shows .0\n"
   ]
  },
  {
   "cell_type": "code",
   "execution_count": null,
   "id": "6b55ca04",
   "metadata": {
    "colab": {
     "base_uri": "https://localhost:8080/"
    },
    "id": "6b55ca04",
    "outputId": "2ce20714-12ac-49aa-8e20-b3f993ce419f"
   },
   "outputs": [],
   "source": [
    "## What is the sum of all the forgiven loans \n"
   ]
  },
  {
   "cell_type": "code",
   "execution_count": null,
   "id": "10fc2aa1",
   "metadata": {
    "colab": {
     "base_uri": "https://localhost:8080/",
     "height": 36
    },
    "id": "10fc2aa1",
    "outputId": "3e60fcfa-9f7f-42f5-982f-4ca19de3283b"
   },
   "outputs": [],
   "source": [
    "## What is the sum of all the forgiven loans  \n",
    "## format with dollar sign and thousands separators\n"
   ]
  },
  {
   "cell_type": "code",
   "execution_count": null,
   "id": "35d_-Hfp-rpt",
   "metadata": {
    "colab": {
     "base_uri": "https://localhost:8080/"
    },
    "id": "35d_-Hfp-rpt",
    "outputId": "5ac91170-076f-4c8a-b38c-a78b14c84118"
   },
   "outputs": [],
   "source": [
    "## store in variable called total_loan_forgiven\n",
    "## we should be able to run calcuations on this variable later.\n"
   ]
  },
  {
   "cell_type": "code",
   "execution_count": null,
   "id": "qYPUBZW7-voG",
   "metadata": {
    "colab": {
     "base_uri": "https://localhost:8080/",
     "height": 36
    },
    "id": "qYPUBZW7-voG",
    "outputId": "dc1558be-2bf3-4b97-976a-49d6bdd07def"
   },
   "outputs": [],
   "source": [
    "## f string format that variable to 2 decimal places\n"
   ]
  },
  {
   "cell_type": "code",
   "execution_count": null,
   "id": "85f40afa",
   "metadata": {
    "colab": {
     "base_uri": "https://localhost:8080/"
    },
    "id": "85f40afa",
    "outputId": "e91a133e-d078-4b19-cf30-c90abce1a399"
   },
   "outputs": [],
   "source": [
    "## return the median for CurrentApprovalAmount loans, InitialApprovalAmount loans and ForgivenessAmount loan amounts\n"
   ]
  },
  {
   "cell_type": "code",
   "execution_count": null,
   "id": "agAgZitYf6ZP",
   "metadata": {
    "colab": {
     "base_uri": "https://localhost:8080/",
     "height": 143
    },
    "id": "agAgZitYf6ZP",
    "outputId": "3348839b-91b8-4cd5-ba9d-c3be2b5be5f2"
   },
   "outputs": [],
   "source": [
    "##  Return the above as a frame\n"
   ]
  },
  {
   "cell_type": "code",
   "execution_count": null,
   "id": "0c26aa08",
   "metadata": {
    "colab": {
     "base_uri": "https://localhost:8080/"
    },
    "id": "0c26aa08",
    "outputId": "9d376007-79bf-4486-f6ce-37c3c8a42038"
   },
   "outputs": [],
   "source": [
    "## get the count, mean and median for CurrentApprovalAmount\n"
   ]
  },
  {
   "cell_type": "markdown",
   "id": "38b436fe",
   "metadata": {},
   "source": [
    "## DO NOT COMPLETE THE FOLLOWING\n"
   ]
  },
  {
   "cell_type": "code",
   "execution_count": null,
   "id": "e350c71d",
   "metadata": {
    "colab": {
     "base_uri": "https://localhost:8080/",
     "height": 143
    },
    "id": "e350c71d",
    "outputId": "f5df44c6-6f60-4d98-f7a7-e2287b7319b4"
   },
   "outputs": [],
   "source": [
    "## automatically return a frame for the count, mean and median for InitialApprovalAmount, CurrentApprovalAmount\n",
    "## note the double brackets because we are passing a list of columns - Automatic to frame"
   ]
  },
  {
   "cell_type": "code",
   "execution_count": null,
   "id": "RpMjeG-dE4Dt",
   "metadata": {
    "colab": {
     "base_uri": "https://localhost:8080/",
     "height": 237
    },
    "id": "RpMjeG-dE4Dt",
    "outputId": "f8a62a55-8387-45bc-cbe4-affb9bf52570"
   },
   "outputs": [],
   "source": [
    "## What summary statistics for the CurrentApprovalAmount by Race?\n",
    "## if you get scientific notation, round it by running the display option that changes the default display\n",
    "## run the display code here\n"
   ]
  },
  {
   "cell_type": "code",
   "execution_count": null,
   "id": "701432e0",
   "metadata": {
    "colab": {
     "base_uri": "https://localhost:8080/",
     "height": 457
    },
    "id": "701432e0",
    "outputId": "aaa7cb3b-8ed8-4284-ecaf-8cecd838fe0e"
   },
   "outputs": [],
   "source": [
    "## What is the sum, mean and count of  by race and gender\n",
    "## describe by school type\n",
    "## describe() returns a dataframe\n"
   ]
  }
 ],
 "metadata": {
  "colab": {
   "provenance": []
  },
  "kernelspec": {
   "display_name": "Python 3 (ipykernel)",
   "language": "python",
   "name": "python3"
  },
  "language_info": {
   "codemirror_mode": {
    "name": "ipython",
    "version": 3
   },
   "file_extension": ".py",
   "mimetype": "text/x-python",
   "name": "python",
   "nbconvert_exporter": "python",
   "pygments_lexer": "ipython3",
   "version": "3.9.7"
  }
 },
 "nbformat": 4,
 "nbformat_minor": 5
}
