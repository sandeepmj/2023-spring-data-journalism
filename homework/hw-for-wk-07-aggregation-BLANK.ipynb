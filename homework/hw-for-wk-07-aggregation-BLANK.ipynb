{
 "cells": [
  {
   "cell_type": "markdown",
   "id": "58185b3c",
   "metadata": {
    "id": "58185b3c"
   },
   "source": [
    "### Paycheck Protection Program\n",
    "\n",
    "Let's analyze **an excerpt** from  <a href=\"https://www.sba.gov/funding-programs/loans/covid-19-relief-options/paycheck-protection-program\">SBA's PPP loan data</a>.\n",
    "\n",
    "The file we're working on is an excerpt (ingested via a link below) so we can't draw any hypothesis from our findings in this homework."
   ]
  },
  {
   "cell_type": "code",
   "execution_count": null,
   "id": "2ab0d68b",
   "metadata": {
    "id": "2ab0d68b"
   },
   "outputs": [],
   "source": [
    "## import library\n",
    "import pandas as pd"
   ]
  },
  {
   "cell_type": "code",
   "execution_count": null,
   "id": "c4f25fe3",
   "metadata": {
    "id": "c4f25fe3"
   },
   "outputs": [],
   "source": [
    "## Ingest remote data\n",
    "df = pd.read_csv(\"https://raw.githubusercontent.com/sandeepmj/datasets/main/ppp_excerpt.csv\")\n",
    "df"
   ]
  },
  {
   "cell_type": "code",
   "execution_count": null,
   "id": "4f959248",
   "metadata": {
    "id": "4f959248"
   },
   "outputs": [],
   "source": [
    "## get info about data types\n"
   ]
  },
  {
   "cell_type": "code",
   "execution_count": null,
   "id": "c16be050",
   "metadata": {
    "id": "c16be050"
   },
   "outputs": [],
   "source": [
    "## Return all summary statistics in one go\n"
   ]
  },
  {
   "cell_type": "code",
   "execution_count": null,
   "id": "dadbf4c1",
   "metadata": {
    "id": "dadbf4c1"
   },
   "outputs": [],
   "source": [
    "## create a new dataframe that holds all the numbers rounded to 0 decimal places\n",
    "## remember a floating point rounded number still shows .0"
   ]
  },
  {
   "cell_type": "code",
   "execution_count": null,
   "id": "6b55ca04",
   "metadata": {
    "id": "6b55ca04"
   },
   "outputs": [],
   "source": [
    "## What is the sum of all the forgiven loans \n"
   ]
  },
  {
   "cell_type": "code",
   "execution_count": null,
   "id": "10fc2aa1",
   "metadata": {
    "id": "10fc2aa1"
   },
   "outputs": [],
   "source": [
    "## What is the sum of all the forgiven loans  \n",
    "## format with dollar sign and thousands separators\n"
   ]
  },
  {
   "cell_type": "code",
   "execution_count": null,
   "id": "35d_-Hfp-rpt",
   "metadata": {
    "id": "35d_-Hfp-rpt"
   },
   "outputs": [],
   "source": [
    "## store in variable called total_loan_forgiven.\n",
    "## we should be able to run calcuations on this variable later.\n"
   ]
  },
  {
   "cell_type": "code",
   "execution_count": null,
   "id": "85f40afa",
   "metadata": {
    "id": "85f40afa"
   },
   "outputs": [],
   "source": [
    "## return the median for CurrentApprovalAmount loans, InitialApprovalAmount loans and ForgivenessAmount loan amounts\n"
   ]
  },
  {
   "cell_type": "code",
   "execution_count": null,
   "id": "agAgZitYf6ZP",
   "metadata": {
    "id": "agAgZitYf6ZP"
   },
   "outputs": [],
   "source": [
    "##  Return the above as a frame\n"
   ]
  },
  {
   "cell_type": "code",
   "execution_count": null,
   "id": "0c26aa08",
   "metadata": {
    "id": "0c26aa08"
   },
   "outputs": [],
   "source": [
    "## get the count, mean and median for CurrentApprovalAmount\n"
   ]
  },
  {
   "cell_type": "markdown",
   "id": "6e23e68e",
   "metadata": {},
   "source": [
    "## DO NOT COMPLETE THE FOLLOWING"
   ]
  },
  {
   "cell_type": "code",
   "execution_count": null,
   "id": "e350c71d",
   "metadata": {
    "id": "e350c71d"
   },
   "outputs": [],
   "source": [
    "## automatically return a frame for the count, mean and median for InitialApprovalAmount, CurrentApprovalAmount\n",
    "## note the double brackets because we are passing a list of columns - Automatic to frame\n"
   ]
  },
  {
   "cell_type": "code",
   "execution_count": null,
   "id": "RpMjeG-dE4Dt",
   "metadata": {
    "id": "RpMjeG-dE4Dt"
   },
   "outputs": [],
   "source": [
    "## What summary statistics for the CurrentApprovalAmount by Race?\n",
    "## if you get scientific notation, round it by running the display option that changes the default display\n",
    "## run the display code here\n"
   ]
  },
  {
   "cell_type": "code",
   "execution_count": null,
   "id": "701432e0",
   "metadata": {
    "id": "701432e0"
   },
   "outputs": [],
   "source": [
    "## What is the sum, mean and count  by race and gender\n",
    "## describe by school type\n",
    "## describe() returns a dataframe\n"
   ]
  }
 ],
 "metadata": {
  "colab": {
   "provenance": [
    {
     "file_id": "1E6lBk0CybDpYiiIpbN9F2vZv4TLTRdMM",
     "timestamp": 1676652349674
    },
    {
     "file_id": "1xGQnNd1p_PPGTl8XhHSTNwgrGJzg3GJL",
     "timestamp": 1676647902051
    },
    {
     "file_id": "13mkVHyvtYcLg0IQu4I7fAqJ0KjUuVhVY",
     "timestamp": 1676556385459
    },
    {
     "file_id": "1-tVOs87v3x9Dtnvny9lYMSSUjYcnPE5r",
     "timestamp": 1676553506628
    }
   ]
  },
  "kernelspec": {
   "display_name": "Python 3 (ipykernel)",
   "language": "python",
   "name": "python3"
  },
  "language_info": {
   "codemirror_mode": {
    "name": "ipython",
    "version": 3
   },
   "file_extension": ".py",
   "mimetype": "text/x-python",
   "name": "python",
   "nbconvert_exporter": "python",
   "pygments_lexer": "ipython3",
   "version": "3.9.7"
  }
 },
 "nbformat": 4,
 "nbformat_minor": 5
}
