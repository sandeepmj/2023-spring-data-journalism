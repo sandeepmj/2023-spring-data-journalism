{
 "cells": [
  {
   "cell_type": "markdown",
   "metadata": {
    "id": "_QNkEvzzryTG"
   },
   "source": [
    "# Oil v. Gold Comparison\n",
    "\n",
    "You want to compare the monthly closing price of gold v. oil over the past decade.\n",
    "\n",
    "The easiest way to uncover a pattern will be to line graph the data\n",
    "\n",
    "The data can be [found here](https://drive.google.com/file/d/122tdS2eTZEq9q7bbKEZMf6168Vi8biRh/view?usp=share_link).\n",
    "\n",
    "\n",
    "\n",
    " "
   ]
  },
  {
   "cell_type": "markdown",
   "metadata": {
    "id": "qIDWNTZfsko-"
   },
   "source": [
    "## What is our approach?"
   ]
  },
  {
   "cell_type": "code",
   "execution_count": null,
   "metadata": {
    "id": "3R7HNm6NrxnK"
   },
   "outputs": [],
   "source": []
  },
  {
   "cell_type": "code",
   "execution_count": null,
   "metadata": {
    "id": "t66kNipJrzY2"
   },
   "outputs": [],
   "source": []
  }
 ],
 "metadata": {
  "colab": {
   "authorship_tag": "ABX9TyNmKsqZZNkZcaqIyHd3td8b",
   "provenance": []
  },
  "kernelspec": {
   "display_name": "Python 3 (ipykernel)",
   "language": "python",
   "name": "python3"
  },
  "language_info": {
   "codemirror_mode": {
    "name": "ipython",
    "version": 3
   },
   "file_extension": ".py",
   "mimetype": "text/x-python",
   "name": "python",
   "nbconvert_exporter": "python",
   "pygments_lexer": "ipython3",
   "version": "3.9.7"
  }
 },
 "nbformat": 4,
 "nbformat_minor": 1
}
