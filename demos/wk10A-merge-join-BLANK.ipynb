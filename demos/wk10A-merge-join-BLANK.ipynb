{
 "cells": [
  {
   "cell_type": "code",
   "execution_count": null,
   "id": "44922c94",
   "metadata": {
    "id": "44922c94"
   },
   "outputs": [],
   "source": [
    "## Import libraries\n",
    "import pandas as pd"
   ]
  },
  {
   "cell_type": "code",
   "execution_count": null,
   "id": "0f4a045d",
   "metadata": {
    "id": "0f4a045d"
   },
   "outputs": [],
   "source": [
    "## small trick to improve our display\n",
    "## Unfortunately appears not to work in Colab.\n",
    "## will allow us to see dataframes side-by-side\n",
    "from IPython.display import display, HTML\n",
    "\n",
    "css = \"\"\"\n",
    ".output {\n",
    "    flex-direction: row;\n",
    "}\n",
    "\"\"\"\n",
    "\n",
    "HTML('<style>{}</style>'.format(css))"
   ]
  },
  {
   "cell_type": "markdown",
   "id": "07c4359b",
   "metadata": {
    "id": "07c4359b"
   },
   "source": [
    "## Relational databases\n",
    "\n",
    "Most businesses, government agencies and research institutes do not put their large and complex data directly into ```Excel``` or ```CSV``` files. Instead, they use ```Relational Databases``` which is considered more efficient, secure and easier to manage for a host of reasons. For example, a table uses less space to list names of industries as abbreviations. A related \"lookup table\" defines the values for those abbreviations.\n",
    "\n",
    "A ```relational Database``` simply holds a few data categories in each table, and all the different tables are related based on some common values.\n",
    "\n",
    "\n",
    "\n",
    "Here's a simple example built with mock data:\n",
    "\n",
    "\n",
    "\n"
   ]
  },
  {
   "cell_type": "code",
   "execution_count": null,
   "id": "0e41d65c",
   "metadata": {
    "id": "0e41d65c"
   },
   "outputs": [],
   "source": [
    "## table that holds IDs and names\n",
    "names = pd.read_csv(\"https://raw.githubusercontent.com/sandeepmj/datasets/main/relationalDB/id_name.csv\")\n",
    "names"
   ]
  },
  {
   "cell_type": "code",
   "execution_count": null,
   "id": "f38be93b",
   "metadata": {
    "id": "f38be93b"
   },
   "outputs": [],
   "source": [
    "## table that holds IDs and departments they work in\n",
    "dept = pd.read_csv(\"https://raw.githubusercontent.com/sandeepmj/datasets/main/relationalDB/dept.csv\")\n",
    "dept"
   ]
  },
  {
   "cell_type": "code",
   "execution_count": null,
   "id": "cc20bc9f",
   "metadata": {
    "id": "cc20bc9f"
   },
   "outputs": [],
   "source": [
    "## display both df side by side\n"
   ]
  },
  {
   "cell_type": "markdown",
   "id": "5b0d5a3a",
   "metadata": {
    "id": "5b0d5a3a"
   },
   "source": [
    "We can easily see how the two are related, and when brought together to provide us with more information."
   ]
  },
  {
   "cell_type": "markdown",
   "id": "e38e1924",
   "metadata": {
    "id": "e38e1924"
   },
   "source": [
    "## ```join()``` v. ```merge()```\n",
    "\n",
    "There are two ways to bring different datasets together – we can use ```join()``` or ```merge()```.\n",
    "\n",
    "Both let us \"bring\" two datasets together, but ```join()``` only joins based on the common indexes of the 2 datasets.\n",
    "\n",
    "```merge()``` allows much greater flexibility because we can \"merge\" 2 datasets based on any columns they have in common, and many other useful parameters.\n",
    "\n",
    "I tend to almost always use ```merge()```. It is so much more versatile as you will see.\n",
    "\n",
    "\n",
    "syntax:\n",
    "\n",
    "```pd.merge(table1, table2)``` in which each dataset has a column value in common."
   ]
  },
  {
   "cell_type": "code",
   "execution_count": null,
   "id": "b42242d8",
   "metadata": {
    "id": "b42242d8"
   },
   "outputs": [],
   "source": [
    "## connect name to dept.\n"
   ]
  },
  {
   "cell_type": "markdown",
   "id": "eb3fe5a5",
   "metadata": {},
   "source": [
    "## another syntax\n",
    "```table1.merge(table2)```"
   ]
  },
  {
   "cell_type": "code",
   "execution_count": null,
   "id": "b200cd24",
   "metadata": {},
   "outputs": [],
   "source": [
    "## merge them"
   ]
  },
  {
   "cell_type": "code",
   "execution_count": null,
   "id": "f40b67aa",
   "metadata": {
    "id": "f40b67aa"
   },
   "outputs": [],
   "source": [
    "## table that holds supervisor initials for each department\n",
    "supervisor = pd.read_csv(\"https://raw.githubusercontent.com/sandeepmj/datasets/main/relationalDB/super.csv\")\n",
    "supervisor.head()"
   ]
  },
  {
   "cell_type": "code",
   "execution_count": null,
   "id": "cdde39c6",
   "metadata": {
    "id": "cdde39c6"
   },
   "outputs": [],
   "source": [
    "## add supervisor to each dept.\n"
   ]
  },
  {
   "cell_type": "markdown",
   "id": "6aab4db6",
   "metadata": {
    "id": "6aab4db6"
   },
   "source": [
    "### Related columns with different column headers"
   ]
  },
  {
   "cell_type": "code",
   "execution_count": null,
   "id": "b7e33e38",
   "metadata": {
    "id": "b7e33e38"
   },
   "outputs": [],
   "source": [
    "## table that holds each person's ID and credit score\n",
    "credit = pd.read_csv(\"https://raw.githubusercontent.com/sandeepmj/datasets/main/relationalDB/id_credit.csv\")\n"
   ]
  },
  {
   "cell_type": "code",
   "execution_count": null,
   "id": "55e54658",
   "metadata": {},
   "outputs": [],
   "source": [
    "## display names and credits side by side"
   ]
  },
  {
   "cell_type": "code",
   "execution_count": null,
   "id": "7c6f1545",
   "metadata": {
    "id": "7c6f1545"
   },
   "outputs": [],
   "source": [
    "## combine names and credit scores\n",
    "## This will break\n"
   ]
  },
  {
   "cell_type": "markdown",
   "id": "f79236e5",
   "metadata": {
    "id": "f79236e5"
   },
   "source": [
    "### Related columns with different column headers\n",
    "\n",
    "syntax:\n",
    "\n",
    "```pd.merge(table1, table2, left_on = \"colA\", right_on=\"column A\")```"
   ]
  },
  {
   "cell_type": "code",
   "execution_count": null,
   "id": "2569f2f9",
   "metadata": {
    "id": "2569f2f9"
   },
   "outputs": [],
   "source": [
    "## 2.\n",
    "## combine names and credit scores\n",
    "## identity and ID are the same thing but spelled differently\n"
   ]
  },
  {
   "cell_type": "code",
   "execution_count": null,
   "id": "d57a1a50",
   "metadata": {
    "id": "d57a1a50"
   },
   "outputs": [],
   "source": [
    "## 3.\n",
    "## combine names and credit scores, but drop the duplicate\n",
    "## identity and ID are the same thing but spelled differently\n",
    "## drop duplicate\n"
   ]
  },
  {
   "cell_type": "code",
   "execution_count": null,
   "id": "bd301ed6",
   "metadata": {
    "id": "bd301ed6"
   },
   "outputs": [],
   "source": [
    "## read dob table \n",
    "dob = pd.read_csv(\"https://raw.githubusercontent.com/sandeepmj/datasets/main/relationalDB/name_dob.csv\")\n",
    "dob"
   ]
  },
  {
   "cell_type": "code",
   "execution_count": null,
   "id": "289d4b81",
   "metadata": {
    "id": "289d4b81"
   },
   "outputs": [],
   "source": [
    "## connect ID to dob\n",
    "## merge recognizes that the two tables have \"Name\" in common.\n"
   ]
  },
  {
   "cell_type": "code",
   "execution_count": null,
   "id": "c6c2310b",
   "metadata": {},
   "outputs": [],
   "source": []
  }
 ],
 "metadata": {
  "colab": {
   "collapsed_sections": [
    "4c0a7086",
    "df5f13d6"
   ],
   "provenance": []
  },
  "kernelspec": {
   "display_name": "Python 3 (ipykernel)",
   "language": "python",
   "name": "python3"
  },
  "language_info": {
   "codemirror_mode": {
    "name": "ipython",
    "version": 3
   },
   "file_extension": ".py",
   "mimetype": "text/x-python",
   "name": "python",
   "nbconvert_exporter": "python",
   "pygments_lexer": "ipython3",
   "version": "3.9.7"
  }
 },
 "nbformat": 4,
 "nbformat_minor": 5
}
