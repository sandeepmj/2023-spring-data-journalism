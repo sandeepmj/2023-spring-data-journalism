{
 "cells": [
  {
   "cell_type": "markdown",
   "metadata": {
    "id": "EphMXC1i09qJ"
   },
   "source": [
    "# Pandas, Lambdas & Axis"
   ]
  },
  {
   "cell_type": "markdown",
   "metadata": {
    "id": "Xsn-58tgvUrl"
   },
   "source": [
    "## Functions\n",
    "\n",
    "The real power in any programming language is the **Function**.\n",
    "\n",
    "A function is:\n",
    "\n",
    "* a little block of script (one line or many) that performs specific task or a series of tasks.\n",
    "* reusable and helps us make our code DRY.\n",
    "* triggered when something \"invokes\" or \"calls\" it.\n",
    "\n",
    "There are two types of functions in Python: ```defined functions``` and ```lambda functions```."
   ]
  },
  {
   "cell_type": "markdown",
   "metadata": {
    "id": "kaMuTGmD09qL"
   },
   "source": [
    "### First, a defined function\n",
    "\n",
    "```def functionName(argument):\n",
    "        expression using provided argument```"
   ]
  },
  {
   "cell_type": "code",
   "execution_count": null,
   "metadata": {
    "id": "76WW5S8xvdT5"
   },
   "outputs": [],
   "source": [
    "## a really simple function:\n"
   ]
  },
  {
   "cell_type": "code",
   "execution_count": null,
   "metadata": {
    "id": "827wSl7bvsSH"
   },
   "outputs": [],
   "source": [
    "## invoke the function\n"
   ]
  },
  {
   "cell_type": "code",
   "execution_count": null,
   "metadata": {
    "id": "1-c-IUVIwAfl"
   },
   "outputs": [],
   "source": [
    "## Add parameter\n"
   ]
  },
  {
   "cell_type": "code",
   "execution_count": null,
   "metadata": {
    "id": "NXHxrA-gwPwq"
   },
   "outputs": [],
   "source": [
    "## invoke function\n"
   ]
  },
  {
   "cell_type": "code",
   "execution_count": null,
   "metadata": {
    "id": "20NZQ5P109qM"
   },
   "outputs": [],
   "source": [
    "## create a defined function that takes anything and multiplies it by two\n"
   ]
  },
  {
   "cell_type": "code",
   "execution_count": null,
   "metadata": {
    "id": "OWtr7tR209qN"
   },
   "outputs": [],
   "source": [
    "## try it on a number\n"
   ]
  },
  {
   "cell_type": "code",
   "execution_count": null,
   "metadata": {
    "id": "UBaLbYhh09qN"
   },
   "outputs": [],
   "source": [
    "## try it on a string\n"
   ]
  },
  {
   "cell_type": "markdown",
   "metadata": {
    "id": "fahBmoE92dn7"
   },
   "source": [
    "### Lambda (or anonymous) Functions\n",
    "\n",
    "* Lambda functions allow you to create a custom calculation.\n",
    "* You can then apply this calculation to targeted columns in your Pandas dataframe.\n",
    "* Lambda functions, also known as ```anonymous functions```, are considered quick, throwaway functions.\n",
    "\n"
   ]
  },
  {
   "cell_type": "markdown",
   "metadata": {
    "id": "kjReYYOb2dn_"
   },
   "source": [
    "## Structure of a Lamba Function \n",
    "\n",
    "\n",
    " ```lambda arguments: expression```\n",
    " \n",
    " A real lambda function:\n",
    " \n",
    " ```lambda x: x * 2```\n",
    " \n",
    " Compared to:\n",
    " ```def times2(x):\n",
    "    return x*2```"
   ]
  },
  {
   "cell_type": "code",
   "execution_count": null,
   "metadata": {
    "id": "7ae4Vc7-2doF"
   },
   "outputs": [],
   "source": [
    "## import library\n",
    "import pandas as pd\n",
    "import random ## generate some random values"
   ]
  },
  {
   "cell_type": "markdown",
   "metadata": {
    "id": "Q-EIzK8H2doF"
   },
   "source": [
    "## Applying Lambdas to Pandas dataframes\n",
    "\n",
    "* In Pandas, we ```apply()``` lambda expressions to columns.\n",
    "\n",
    "Here we create a new column by multiplying existing values in each row of a column by 2.\n",
    "\n",
    "```df['new_column'] = df['existing_column'].apply(lambda x: x * 2)```"
   ]
  },
  {
   "cell_type": "code",
   "execution_count": null,
   "metadata": {
    "id": "Yz3ydxV52doF"
   },
   "outputs": [],
   "source": [
    "## create a df with mock data\n",
    "\n",
    "data = {'firm': ['Bilk Inc.', 'Vine & Co.', 'Kiln Inc.', 'Y & Y Consulting', 'Trending Inc.', \"State Insurance\"],\n",
    "   'net_2020': [1150, 2300, 3400, 1500, 6500, 1000 ],\n",
    "        'net_2021': [1216, 2619, 3701, 1890, 5630, 1099 ]\n",
    "           }\n",
    "df = pd.DataFrame(data)\n",
    "\n",
    "df"
   ]
  },
  {
   "cell_type": "code",
   "execution_count": null,
   "metadata": {
    "id": "LvVvdIfX09qQ"
   },
   "outputs": [],
   "source": [
    "## create a copy to test something \n",
    "dfx = df.copy()\n",
    "dfx"
   ]
  },
  {
   "cell_type": "code",
   "execution_count": null,
   "metadata": {
    "id": "y9QpXEsG09qQ"
   },
   "outputs": [],
   "source": [
    "## create a column called net_2022 that is a 10 percent increase from net_2021\n"
   ]
  },
  {
   "cell_type": "code",
   "execution_count": null,
   "metadata": {
    "id": "1-l-Ha_n09qQ"
   },
   "outputs": [],
   "source": [
    "### True that we could just multiply: \n"
   ]
  },
  {
   "cell_type": "markdown",
   "metadata": {
    "id": "C-s1KEff3Rxz",
    "outputId": "83566b4a-9f76-4010-b070-8f0d1fc4c060"
   },
   "source": [
    "### But this won't allow us to carry out more complex operations, like if multiple columns are involved."
   ]
  },
  {
   "cell_type": "code",
   "execution_count": null,
   "metadata": {
    "id": "IxPScIhj09qR"
   },
   "outputs": [],
   "source": [
    "## create a new copy called dfa\n"
   ]
  },
  {
   "cell_type": "code",
   "execution_count": null,
   "metadata": {
    "id": "LL5RPpir09qR",
    "scrolled": true
   },
   "outputs": [],
   "source": [
    "## create a random value between 1 and 1.5 to two decimal places\n",
    "## uniform returns values that are not on a bell curve (normal distribution)\n",
    "## but could appear anywhere between two numbers\n",
    "round(random.uniform(1,1.5), 2)"
   ]
  },
  {
   "cell_type": "code",
   "execution_count": null,
   "metadata": {
    "id": "k1nJQm1y2doF"
   },
   "outputs": [],
   "source": [
    "## apply as a lambda expression on our dataframe\n",
    "## increase net income in 2021 by a random number between 1 and 100 percent\n"
   ]
  },
  {
   "cell_type": "markdown",
   "metadata": {
    "id": "CkpWMEpt09qR"
   },
   "source": [
    "## Apply Lambdas using values from specific columns\n",
    "\n",
    "```df['new_col'] = df.apply(lambda x: x['column1'] + x['column2'], axis = 1)```\n"
   ]
  },
  {
   "cell_type": "code",
   "execution_count": null,
   "metadata": {
    "id": "qm2tB5A0VOV8"
   },
   "outputs": [],
   "source": [
    "## call our dfa\n"
   ]
  },
  {
   "cell_type": "markdown",
   "metadata": {
    "id": "2KaH0LPllRgF"
   },
   "source": [
    "### Use ```lambda``` to target specific columns in a dataframe"
   ]
  },
  {
   "cell_type": "code",
   "execution_count": null,
   "metadata": {
    "id": "qMKprwpgPukq"
   },
   "outputs": [],
   "source": [
    "## Find the difference between net_2020 and net_2022\n"
   ]
  },
  {
   "cell_type": "markdown",
   "metadata": {
    "id": "ivFHqUPInnIc"
   },
   "source": [
    "## What is ```axis = 1```?"
   ]
  },
  {
   "cell_type": "code",
   "execution_count": null,
   "metadata": {
    "id": "y3LAsqbtnqw6"
   },
   "outputs": [],
   "source": [
    "## what happens to the same calculation without axis = 1?\n",
    "## Find the difference between net_2021 and net_2022\n",
    "## this will break!\n"
   ]
  },
  {
   "cell_type": "markdown",
   "metadata": {
    "id": "zB2mvZx409qS"
   },
   "source": [
    "## So what is ```axis``` in Pandas?"
   ]
  },
  {
   "cell_type": "markdown",
   "metadata": {
    "id": "0_QwtUdH09qS"
   },
   "source": [
    "<img src=\"https://raw.githubusercontent.com/sandeepmj/22spring-advanced-data/main/img/axis.png\" width=\"75%\">"
   ]
  },
  {
   "cell_type": "markdown",
   "metadata": {
    "id": "TthDkORI09qS"
   },
   "source": [
    "## ```axis = 0```"
   ]
  },
  {
   "cell_type": "code",
   "execution_count": null,
   "metadata": {
    "id": "tjxwUWqz09qS"
   },
   "outputs": [],
   "source": [
    "## create a df for axis = 0 \n",
    "df_ax0 = df.copy()\n",
    "df_ax0"
   ]
  },
  {
   "cell_type": "markdown",
   "metadata": {
    "id": "mSstFpig09qS"
   },
   "source": [
    "```axis = 0``` would calculate the total row by row in a single column.\n",
    "\n",
    "I rarely use ```axis = 0``` because functions like .mean(), .sum() when told what column to operate on give you axis = 0 functionality automatically as below.\n",
    "\n",
    "But we will use ```axis = 0``` in a few weeks on more custom operations."
   ]
  },
  {
   "cell_type": "code",
   "execution_count": null,
   "metadata": {
    "id": "aku265XP09qS"
   },
   "outputs": [],
   "source": [
    "## note how the calculation is done vertically to sum all the\n",
    "## items in net_2020, net_2021 \n"
   ]
  },
  {
   "cell_type": "markdown",
   "metadata": {
    "id": "R1Nix1oe09qT"
   },
   "source": [
    "## ```axis = 1```"
   ]
  },
  {
   "cell_type": "code",
   "execution_count": null,
   "metadata": {
    "id": "pqgsvzpq09qT"
   },
   "outputs": [],
   "source": [
    "## creating another copy of the original df so we can manipulate it\n",
    "df_ax1 = df.copy()\n",
    "df_ax1"
   ]
  },
  {
   "cell_type": "code",
   "execution_count": null,
   "metadata": {
    "id": "5tYBYuaM09qT"
   },
   "outputs": [],
   "source": [
    "#### We want to add each value in net_2020 row with the corresponding value in the net_2021 row\n",
    "## GOING ACROSS THE Columns we use axis = 1\n"
   ]
  },
  {
   "cell_type": "markdown",
   "metadata": {
    "id": "CnVu2SXw09qR"
   },
   "source": [
    "### What is the percentage change between net_2021 and net_2022 in dfa?\n",
    "\n",
    "We can use ```df.pct_change()```"
   ]
  },
  {
   "cell_type": "code",
   "execution_count": null,
   "metadata": {
    "id": "V9eUycO-pB4C"
   },
   "outputs": [],
   "source": [
    "## call dfa again\n"
   ]
  },
  {
   "cell_type": "code",
   "execution_count": null,
   "metadata": {
    "id": "XQ22md0vVTL-"
   },
   "outputs": [],
   "source": [
    "## find percent change between 2022 and 2021\n"
   ]
  },
  {
   "cell_type": "markdown",
   "metadata": {
    "id": "MdJ2OaKyphbB"
   },
   "source": [
    "### Use Lambda to calc percent change"
   ]
  },
  {
   "cell_type": "code",
   "execution_count": null,
   "metadata": {
    "id": "645PmAB409qR"
   },
   "outputs": [],
   "source": [
    "## What is the percentage change between net_2020 and net_2021. Create a new column called \"pct_chg\"\n",
    "## \n"
   ]
  },
  {
   "cell_type": "code",
   "execution_count": null,
   "metadata": {
    "id": "4jGyCDx009qS"
   },
   "outputs": [],
   "source": [
    "## without axis = 1, this will break:\n"
   ]
  },
  {
   "cell_type": "markdown",
   "metadata": {
    "id": "XYeJUKy5jD4k"
   },
   "source": [
    "## Lambda conditionals"
   ]
  },
  {
   "cell_type": "code",
   "execution_count": null,
   "metadata": {
    "id": "3kwNIIIkjD4k"
   },
   "outputs": [],
   "source": [
    "## create a new copy  \n",
    "dfc = df.copy()\n",
    "dfc"
   ]
  },
  {
   "cell_type": "code",
   "execution_count": null,
   "metadata": {
    "id": "LGJH1j_fjD4k",
    "scrolled": false
   },
   "outputs": [],
   "source": [
    "## create a column called \"met_goal\".\n",
    "## value = True if net gain of 10% or more\n",
    "## value = Flase if net gain less than 10%\n"
   ]
  },
  {
   "cell_type": "code",
   "execution_count": null,
   "metadata": {
    "id": "oi1DvgTDjD4k"
   },
   "outputs": [],
   "source": [
    "## create a column that lists the percent diff\n",
    "\n"
   ]
  },
  {
   "cell_type": "code",
   "execution_count": null,
   "metadata": {
    "id": "V3sBWC7w_TqZ"
   },
   "outputs": [],
   "source": []
  },
  {
   "cell_type": "code",
   "execution_count": null,
   "metadata": {
    "id": "gcJvZZ-CjD4k"
   },
   "outputs": [],
   "source": []
  }
 ],
 "metadata": {
  "colab": {
   "provenance": [
    {
     "file_id": "1FO_BtJtUtMz2vVWjqw8fdid_gkthUAA5",
     "timestamp": 1677682576125
    },
    {
     "file_id": "1sE67_WomjawOi6jO59fXpCROmhW8z5Qz",
     "timestamp": 1677679685241
    }
   ]
  },
  "kernelspec": {
   "display_name": "Python 3 (ipykernel)",
   "language": "python",
   "name": "python3"
  },
  "language_info": {
   "codemirror_mode": {
    "name": "ipython",
    "version": 3
   },
   "file_extension": ".py",
   "mimetype": "text/x-python",
   "name": "python",
   "nbconvert_exporter": "python",
   "pygments_lexer": "ipython3",
   "version": "3.9.7"
  }
 },
 "nbformat": 4,
 "nbformat_minor": 1
}
