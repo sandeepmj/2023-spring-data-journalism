{
 "cells": [
  {
   "cell_type": "markdown",
   "id": "95190cd6",
   "metadata": {},
   "source": [
    "# NYC 311 Noise Complaints Analysis\n",
    "\n",
    "Brainstorm a strategy to see if 311 noise complaints data reveal any trends. What other data might you cross-reference?\n"
   ]
  },
  {
   "cell_type": "code",
   "execution_count": null,
   "id": "4ed3c442",
   "metadata": {},
   "outputs": [],
   "source": []
  }
 ],
 "metadata": {
  "kernelspec": {
   "display_name": "Python 3 (ipykernel)",
   "language": "python",
   "name": "python3"
  },
  "language_info": {
   "codemirror_mode": {
    "name": "ipython",
    "version": 3
   },
   "file_extension": ".py",
   "mimetype": "text/x-python",
   "name": "python",
   "nbconvert_exporter": "python",
   "pygments_lexer": "ipython3",
   "version": "3.9.7"
  }
 },
 "nbformat": 4,
 "nbformat_minor": 5
}
