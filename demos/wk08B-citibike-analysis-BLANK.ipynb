{
  "cells": [
    {
      "attachments": {},
      "cell_type": "markdown",
      "metadata": {
        "id": "O4ZHI-wESv-p"
      },
      "source": [
        "## COVID's Impact on CitiBikes Ridership in NYC \n",
        "\n",
        "We have the <a href=\"https://drive.google.com/file/d/1LM7b3bQa-toyiXxLnVvK5MIACIRNoPOl/view?usp=share_link\">dataset for all CitiBike ridership</a> during March 2020. \n",
        "\n",
        "How might we determine COVID's impact on ridership at the onset of the pandemic?\n",
        "\n",
        "\n"
      ]
    }
  ],
  "metadata": {
    "colab": {
      "provenance": []
    },
    "kernelspec": {
      "display_name": "Python 3 (ipykernel)",
      "language": "python",
      "name": "python3"
    },
    "language_info": {
      "codemirror_mode": {
        "name": "ipython",
        "version": 3
      },
      "file_extension": ".py",
      "mimetype": "text/x-python",
      "name": "python",
      "nbconvert_exporter": "python",
      "pygments_lexer": "ipython3",
      "version": "3.9.7"
    }
  },
  "nbformat": 4,
  "nbformat_minor": 0
}
